{
 "cells": [
  {
   "cell_type": "code",
   "execution_count": 94,
   "id": "d5d58993",
   "metadata": {},
   "outputs": [],
   "source": [
    "def has_vowel(w):\n",
    "    return \"a\" in w or \"e\" in w or \"i\" in w or \"o\" in w or \"u\" in w or \"ä\" in w or \"ö\" in w or \"ü\" in w\n",
    "\n",
    "def add_y_i(w):\n",
    "    return w[0]+\"y\"+w[1:]+\"i\""
   ]
  },
  {
   "cell_type": "code",
   "execution_count": 95,
   "id": "b35871bb",
   "metadata": {},
   "outputs": [],
   "source": [
    "def telex_to_tkzudka(s):\n",
    "    mytable = str.maketrans(\"abcdefghijklmnopqrstuvwxyz\", \"kmuauuuihhvtszononnlddevln\")\n",
    "    s = s.translate(mytable)\n",
    "    s = s.replace(\"aa\",\"a\")\n",
    "    s = s.replace(\"oo\",\"a\")\n",
    "    s = s.replace(\"ee\",\"a\")\n",
    "    s = s.replace(\"ii\",\"a\")\n",
    "    s = s.replace(\"uu\",\"a\")\n",
    "    \n",
    "    if not has_vowel(s):\n",
    "        s = add_y_i(s)\n",
    "        \n",
    "    if s.startswith(\"iu\"):\n",
    "        s = \"yu\"+ s[2:]\n",
    "        \n",
    "    if s.startswith(\"ia\"):\n",
    "        s = \"ya\"+ s[2:]\n",
    "        \n",
    "    if s.startswith(\"io\"):\n",
    "        s = \"ya\"+ s[2:]\n",
    "        \n",
    "    return s"
   ]
  },
  {
   "cell_type": "code",
   "execution_count": 96,
   "id": "a52a3811",
   "metadata": {},
   "outputs": [],
   "source": [
    "def trans_to_tkzudka(txt):\n",
    "\n",
    "    sp = txt.split()\n",
    "    return \" \".join([ telex_to_tkziu(w) for w in sp])"
   ]
  },
  {
   "cell_type": "code",
   "execution_count": 121,
   "id": "5aa0644a",
   "metadata": {},
   "outputs": [
    {
     "data": {
      "text/plain": [
       "'tkzudka'"
      ]
     },
     "execution_count": 121,
     "metadata": {},
     "output_type": "execute_result"
    }
   ],
   "source": [
    "trans_to_tkzudka(\"language\")"
   ]
  }
 ],
 "metadata": {
  "kernelspec": {
   "display_name": "Python 3 (ipykernel)",
   "language": "python",
   "name": "python3"
  },
  "language_info": {
   "codemirror_mode": {
    "name": "ipython",
    "version": 3
   },
   "file_extension": ".py",
   "mimetype": "text/x-python",
   "name": "python",
   "nbconvert_exporter": "python",
   "pygments_lexer": "ipython3",
   "version": "3.9.12"
  }
 },
 "nbformat": 4,
 "nbformat_minor": 5
}
